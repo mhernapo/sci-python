{
 "cells": [
  {
   "cell_type": "markdown",
   "metadata": {},
   "source": [
    "### Bibliografia usada en este documento:\n",
    "\n",
    "* https://pythonhosted.org/PyQt-Fit/NonParam_tut.html\n",
    "* Wikipedia"
   ]
  },
  {
   "cell_type": "code",
   "execution_count": 7,
   "metadata": {},
   "outputs": [],
   "source": [
    "from IPython.display import Image\n",
    "from IPython.core.display import HTML"
   ]
  },
  {
   "cell_type": "code",
   "execution_count": 8,
   "metadata": {},
   "outputs": [],
   "source": [
    "import numpy as np\n",
    "import matplotlib.pyplot as plt"
   ]
  },
  {
   "cell_type": "markdown",
   "metadata": {},
   "source": [
    "Generamos y dibujamos nuestra funcion:"
   ]
  },
  {
   "cell_type": "code",
   "execution_count": 9,
   "metadata": {},
   "outputs": [
    {
     "data": {
      "image/png": "[encoded data removed]",
      "text/plain": [
       "<Figure size 432x288 with 1 Axes>"
      ]
     },
     "metadata": {
      "needs_background": "light"
     },
     "output_type": "display_data"
    }
   ],
   "source": [
    "def f(x):\n",
    "    return 3*np.cos(x/2) + x**2/5 + 3\n",
    "\n",
    "xs = np.random.rand(200) * 10\n",
    "ys = f(xs) + 2*np.random.randn(*xs.shape)\n",
    "\n",
    "grid = np.r_[0:10:512j]\n",
    "plt.plot(grid, f(grid), 'r--', label='Reference')\n",
    "plt.plot(xs, ys, 'o', alpha=0.5, label='Data')\n",
    "dummy = plt.legend(loc='best')"
   ]
  },
  {
   "cell_type": "markdown",
   "metadata": {},
   "source": [
    "> **NOTA**: este snippet hemos usado la funcion <code style=\"background:grey;color:black\">np.r_</code> que fusiona slices de arrays en filas, mientras que <code style=\"background:grey;color:black\">np.c_</code> lo hace en columnas:"
   ]
  },
  {
   "cell_type": "code",
   "execution_count": 12,
   "metadata": {},
   "outputs": [
    {
     "data": {
      "text/plain": [
       "array([1, 2, 7, 4, 8, 9])"
      ]
     },
     "execution_count": 12,
     "metadata": {},
     "output_type": "execute_result"
    }
   ],
   "source": [
    "V = np.array([1,2,3,4 ])\n",
    "Y = np.array([7,8,9,10])\n",
    "np.r_[V[0:2],Y[0],V[3],Y[1:3]]"
   ]
  },
  {
   "cell_type": "code",
   "execution_count": 14,
   "metadata": {},
   "outputs": [
    {
     "data": {
      "text/plain": [
       "array([[1, 4],\n",
       "       [2, 5],\n",
       "       [3, 6]])"
      ]
     },
     "execution_count": 14,
     "metadata": {},
     "output_type": "execute_result"
    }
   ],
   "source": [
    "np.c_[np.array([1,2,3]), np.array([4,5,6])]"
   ]
  },
  {
   "cell_type": "markdown",
   "metadata": {},
   "source": [
    "> **NOTA**: np.r_[0:3:15j] genera 15 numeros aleatorios entre 0 y 3"
   ]
  },
  {
   "cell_type": "code",
   "execution_count": 6,
   "metadata": {},
   "outputs": [
    {
     "data": {
      "text/plain": [
       "array([0.        , 0.21428571, 0.42857143, 0.64285714, 0.85714286,\n",
       "       1.07142857, 1.28571429, 1.5       , 1.71428571, 1.92857143,\n",
       "       2.14285714, 2.35714286, 2.57142857, 2.78571429, 3.        ])"
      ]
     },
     "execution_count": 6,
     "metadata": {},
     "output_type": "execute_result"
    }
   ],
   "source": [
    "# genera 15 numeros aleatorios wntre 0 y 3\n",
    "np.r_[0:3:15j]"
   ]
  },
  {
   "cell_type": "markdown",
   "metadata": {},
   "source": [
    "we will try to use a simple Nadaraya-Watson method, or spatial averaging, using a gaussian kernel:"
   ]
  },
  {
   "cell_type": "code",
   "execution_count": 10,
   "metadata": {},
   "outputs": [
    {
     "ename": "ModuleNotFoundError",
     "evalue": "No module named 'pyqt_fit'",
     "output_type": "error",
     "traceback": [
      "\u001b[1;31m---------------------------------------------------------------------------\u001b[0m",
      "\u001b[1;31mModuleNotFoundError\u001b[0m                       Traceback (most recent call last)",
      "\u001b[1;32m<ipython-input-10-ec6307637a35>\u001b[0m in \u001b[0;36m<module>\u001b[1;34m\u001b[0m\n\u001b[1;32m----> 1\u001b[1;33m \u001b[1;32mimport\u001b[0m \u001b[0mpyqt_fit\u001b[0m\u001b[1;33m.\u001b[0m\u001b[0mnonparam_regression\u001b[0m \u001b[1;32mas\u001b[0m \u001b[0msmooth\u001b[0m\u001b[1;33m\u001b[0m\u001b[1;33m\u001b[0m\u001b[0m\n\u001b[0m\u001b[0;32m      2\u001b[0m \u001b[1;32mfrom\u001b[0m \u001b[0mpyqt_fit\u001b[0m \u001b[1;32mimport\u001b[0m \u001b[0mnpr_methods\u001b[0m\u001b[1;33m\u001b[0m\u001b[1;33m\u001b[0m\u001b[0m\n\u001b[0;32m      3\u001b[0m \u001b[1;33m\u001b[0m\u001b[0m\n\u001b[0;32m      4\u001b[0m \u001b[0mk0\u001b[0m \u001b[1;33m=\u001b[0m \u001b[0msmooth\u001b[0m\u001b[1;33m.\u001b[0m\u001b[0mNonParamRegression\u001b[0m\u001b[1;33m(\u001b[0m\u001b[0mxs\u001b[0m\u001b[1;33m,\u001b[0m \u001b[0mys\u001b[0m\u001b[1;33m,\u001b[0m \u001b[0mmethod\u001b[0m\u001b[1;33m=\u001b[0m\u001b[0mnpr_methods\u001b[0m\u001b[1;33m.\u001b[0m\u001b[0mSpatialAverage\u001b[0m\u001b[1;33m(\u001b[0m\u001b[1;33m)\u001b[0m\u001b[1;33m)\u001b[0m\u001b[1;33m\u001b[0m\u001b[1;33m\u001b[0m\u001b[0m\n\u001b[0;32m      5\u001b[0m \u001b[0mk0\u001b[0m\u001b[1;33m.\u001b[0m\u001b[0mfit\u001b[0m\u001b[1;33m(\u001b[0m\u001b[1;33m)\u001b[0m\u001b[1;33m\u001b[0m\u001b[1;33m\u001b[0m\u001b[0m\n",
      "\u001b[1;31mModuleNotFoundError\u001b[0m: No module named 'pyqt_fit'"
     ]
    }
   ],
   "source": [
    "from statsmodels.nonparametric.kernel_regression import KernelReg\n",
    "\n",
    "\n",
    "df = pd.read_csv('kde_chocolate.csv')\n",
    "\n",
    "n = df.shape[0]\n",
    "kde = KernelReg(endog=df['chocolate'], # dependent variable.\n",
    "                exog=np.arange(n),     # data for the independent variable(s) Each element in the list is a separate variable\n",
    "                var_type='c',          # c: continuous\n",
    "                bw=[12])               # Either a user-specified bandwidth or the method for bandwidth selection\n",
    "\n",
    "estimator = kde.fit(np.arange(n))\n",
    "estimator = np.reshape(estimator[0],n)\n",
    "\n",
    "\n",
    "\n",
    "k0 = smooth.NonParamRegression(xs, ys, method=npr_methods.SpatialAverage())\n",
    "k0.fit()\n",
    "plt.plot(grid, k0(grid), label=\"Spatial Averaging\", linewidth=2)\n",
    "plt.legend(loc='best')"
   ]
  },
  {
   "cell_type": "code",
   "execution_count": null,
   "metadata": {},
   "outputs": [],
   "source": []
  }
 ],
 "metadata": {
  "kernelspec": {
   "display_name": "Python 3",
   "language": "python",
   "name": "python3"
  },
  "language_info": {
   "codemirror_mode": {
    "name": "ipython",
    "version": 3
   },
   "file_extension": ".py",
   "mimetype": "text/x-python",
   "name": "python",
   "nbconvert_exporter": "python",
   "pygments_lexer": "ipython3",
   "version": "3.8.5"
  }
 },
 "nbformat": 4,
 "nbformat_minor": 4
}
